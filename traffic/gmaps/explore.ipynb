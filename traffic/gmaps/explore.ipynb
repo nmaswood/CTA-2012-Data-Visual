{
 "cells": [
  {
   "cell_type": "code",
   "execution_count": 193,
   "metadata": {
    "collapsed": false,
    "deletable": true,
    "editable": true
   },
   "outputs": [
    {
     "name": "stdout",
     "output_type": "stream",
     "text": [
      "Using matplotlib backend: TkAgg\n"
     ]
    }
   ],
   "source": [
    "%matplotlib\n",
    "from matplotlib.pyplot import imshow\n",
    "import numpy as np\n",
    "from PIL import Image, ImageFilter, ImageEnhance\n",
    "from IPython.display import Image as display_image\n",
    "from os import listdir, makedirs\n"
   ]
  },
  {
   "cell_type": "code",
   "execution_count": 194,
   "metadata": {
    "collapsed": false,
    "deletable": true,
    "editable": true
   },
   "outputs": [
    {
     "data": {
      "text/plain": [
       "['easy_traffic.png',\n",
       " 'easy_untouched.png',\n",
       " 'heavy_untouched.png',\n",
       " 'medium_traffic.png',\n",
       " 'medium_untouched.png',\n",
       " 'rsz_heavy_traffic.png']"
      ]
     },
     "execution_count": 194,
     "metadata": {},
     "output_type": "execute_result"
    }
   ],
   "source": [
    "pics = [x for x in listdir(\".\") if x.endswith((\".png\", \".jpeg\"))]\n",
    "pics"
   ]
  },
  {
   "cell_type": "code",
   "execution_count": 241,
   "metadata": {
    "collapsed": false,
    "deletable": true,
    "editable": true,
    "scrolled": true
   },
   "outputs": [],
   "source": [
    "#display_image(filename=\"m.png\")\n",
    "im  = Image.open('heavy_untouched.png', 'r')\n",
    "\n",
    "def crop_im(im):\n",
    "    \n",
    "    w, h = im.width, im.height\n",
    "    crop_region = (0,20,w,w - 25)\n",
    "\n",
    "    return im.crop(crop_region)\n",
    "\n",
    "def resize_im(im):\n",
    "    \n",
    "    w, h = im.width, im.height\n",
    "    \n",
    "    resize_tuple = (45, 45)\n",
    "    \n",
    "    return im.resize(resize_tuple)\n",
    "\n",
    "def color_image(im, r2, g2, b2):\n",
    "\n",
    "    data = np.array(im)\n",
    "\n",
    "    red, green, blue = [data[:,:,i] for i in range(3)]\n",
    "\n",
    "    data[:,:,:3] = [r2,g2,b2]\n",
    "\n",
    "    return Image.fromarray(data)\n",
    "\n",
    "def write_images(file, hold_constant):\n",
    "    \n",
    "    im = Image.open(file, 'r')\n",
    "    resized = resize_im(im)\n",
    "    \n",
    "    name, ext = file.split(\".png\",1)\n",
    "    \n",
    "    folder_name = file.split(\"_\", 1)[0]\n",
    "    makedirs(folder_name, exist_ok=True)\n",
    "    \n",
    "    # 33, 226, 255\n",
    "     \n",
    "    for i in range(5):\n",
    "\n",
    "        values = i * 40\n",
    "        \n",
    "        if hold_constant == 'r':\n",
    "            new_image = color_image(resized, 255, values, values)\n",
    "        elif hold_constant == 'g':\n",
    "            new_image = color_image(resized, values, 255, values)\n",
    "        else:\n",
    "            new_image = color_image(resized, values, values, 255)\n",
    "            \n",
    "        new_image.save(f'{folder_name}/{name}_{i}.png')\n",
    "\n",
    "def write_all_images():\n",
    "    \n",
    "    for prefix, c in ((\"easy\",'g'), (\"medium\", 'b'), (\"heavy\", 'r')):\n",
    "        \n",
    "        file_name = f'{prefix}_untouched.png'\n",
    "        \n",
    "        write_images(file_name, c)\n",
    "\n",
    "foo = Image.open('easy_untouched.png','r')\n",
    "color_image(foo, 3, 226, 255)\n",
    "write_all_images()"
   ]
  },
  {
   "cell_type": "code",
   "execution_count": null,
   "metadata": {
    "collapsed": true
   },
   "outputs": [],
   "source": []
  }
 ],
 "metadata": {
  "kernelspec": {
   "display_name": "Python 3",
   "language": "python",
   "name": "python3"
  },
  "language_info": {
   "codemirror_mode": {
    "name": "ipython",
    "version": 3
   },
   "file_extension": ".py",
   "mimetype": "text/x-python",
   "name": "python",
   "nbconvert_exporter": "python",
   "pygments_lexer": "ipython3",
   "version": "3.6.0"
  }
 },
 "nbformat": 4,
 "nbformat_minor": 2
}
