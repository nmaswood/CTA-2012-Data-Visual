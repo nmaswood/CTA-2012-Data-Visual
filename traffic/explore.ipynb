{
 "cells": [
  {
   "cell_type": "code",
   "execution_count": 106,
   "metadata": {
    "collapsed": true,
    "deletable": true,
    "editable": true
   },
   "outputs": [],
   "source": [
    "import pandas as pd\n",
    "import numpy as np"
   ]
  },
  {
   "cell_type": "code",
   "execution_count": 107,
   "metadata": {
    "collapsed": false,
    "deletable": true,
    "editable": true
   },
   "outputs": [],
   "source": [
    "def _common_replacements(input_str):\n",
    "    \n",
    "    replacements = (\n",
    "        (\"Street\", \"St\"),\n",
    "        (\"Avenue\", \"Ave\"),\n",
    "        (\"Road\", \"Rd\"),\n",
    "        (\"Boulevard\", \"Blvd\"),\n",
    "        (\"Drive\", \"Dr\")\n",
    "    )\n",
    "    \n",
    "    for (to_replace, to_replace_with) in replacements:\n",
    "        \n",
    "        input_str = input_str.replace(to_replace, to_replace_with)\n",
    "        \n",
    "    return input_str\n",
    "\n",
    "def read_data():\n",
    "\n",
    "    data = pd.read_csv(\"traffic.csv\")\n",
    "    data_prime = data.copy()\n",
    "    cols = data_prime.columns\n",
    "    cols_to_remove = [cols[0], cols[1], cols[3], cols[5], cols[8]]\n",
    "\n",
    "    data_dropped = data_prime.drop(cols_to_remove, axis =1)\n",
    "    \n",
    "    data_dropped['Street'] = all_d['Street'].apply(_common_replacements)\n",
    "    \n",
    "    return data_dropped"
   ]
  }
 ],
 "metadata": {
  "kernelspec": {
   "display_name": "Python 3",
   "language": "python",
   "name": "python3"
  },
  "language_info": {
   "codemirror_mode": {
    "name": "ipython",
    "version": 3
   },
   "file_extension": ".py",
   "mimetype": "text/x-python",
   "name": "python",
   "nbconvert_exporter": "python",
   "pygments_lexer": "ipython3",
   "version": "3.6.0"
  }
 },
 "nbformat": 4,
 "nbformat_minor": 2
}
